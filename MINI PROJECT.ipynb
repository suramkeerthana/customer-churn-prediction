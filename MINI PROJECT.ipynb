{
 "cells": [
  {
   "cell_type": "markdown",
   "id": "8a79bd53",
   "metadata": {},
   "source": [
    "# CUSTOMER CHURN PREDICTION "
   ]
  },
  {
   "cell_type": "markdown",
   "id": "e6268466",
   "metadata": {},
   "source": [
    "#### DETAILS\n",
    "##### NAME   :MRECW\n",
    "##### TOPIC  : CUSTOMER CHURN PREDICTION\n"
   ]
  },
  {
   "cell_type": "code",
   "execution_count": 5,
   "id": "e249704b",
   "metadata": {},
   "outputs": [],
   "source": [
    "# IMPORTING THE LIBRARIES\n",
    "# GENERAL LIBRARIES FOR DATASET\n",
    "import numpy as np\n",
    "import matplotlib.pyplot as plt\n",
    "import pandas as pd\n",
    "import seaborn as sns\n",
    "import datetime as dt\n",
    "import math\n",
    "# FOR ID3 DECISION TREE\n",
    "from sklearn.preprocessing import StandardScaler\n",
    "from sklearn import tree\n",
    "from sklearn.tree import DecisionTreeClassifier\n",
    "from numpy import log2 as log\n",
    "# FOR SVM\n",
    "from sklearn.svm import SVC\n",
    "from sklearn import svm\n",
    "from sklearn.svm import LinearSVC\n",
    "from sklearn.pipeline import Pipeline\n",
    "# FOR ANN\n",
    "from sklearn.neural_network import MLPClassifier\n",
    "# FOR THE STATISTICS IN EACH MODEL\n",
    "from sklearn.metrics import confusion_matrix\n",
    "from sklearn.metrics import classification_report\n",
    "from sklearn.metrics import roc_auc_score\n",
    "from sklearn.metrics import roc_curve\n",
    "from sklearn.model_selection import train_test_split\n",
    "from sklearn import metrics\n",
    "import warnings\n",
    "warnings.filterwarnings('ignore')\n",
    "%matplotlib inline"
   ]
  },
  {
   "cell_type": "markdown",
   "id": "53295d35",
   "metadata": {},
   "source": [
    "### READING AND CLEANING THE DATASET"
   ]
  },
  {
   "cell_type": "code",
   "execution_count": 6,
   "id": "bdc19662",
   "metadata": {},
   "outputs": [],
   "source": [
    "# READING THE DATASET\n",
    "path = 'C:/data/data.csv' # Enter your path to the dataset\n",
    "df = pd.read_csv(path, encoding = 'latin1')\n",
    "df2 = pd.read_csv(path, encoding = 'latin1')"
   ]
  },
  {
   "cell_type": "code",
   "execution_count": 7,
   "id": "f7d9f004",
   "metadata": {
    "scrolled": false
   },
   "outputs": [
    {
     "data": {
      "text/plain": [
       "'DF1'"
      ]
     },
     "metadata": {},
     "output_type": "display_data"
    },
    {
     "data": {
      "text/html": [
       "<div>\n",
       "<style scoped>\n",
       "    .dataframe tbody tr th:only-of-type {\n",
       "        vertical-align: middle;\n",
       "    }\n",
       "\n",
       "    .dataframe tbody tr th {\n",
       "        vertical-align: top;\n",
       "    }\n",
       "\n",
       "    .dataframe thead th {\n",
       "        text-align: right;\n",
       "    }\n",
       "</style>\n",
       "<table border=\"1\" class=\"dataframe\">\n",
       "  <thead>\n",
       "    <tr style=\"text-align: right;\">\n",
       "      <th></th>\n",
       "      <th>InvoiceNo</th>\n",
       "      <th>StockCode</th>\n",
       "      <th>Description</th>\n",
       "      <th>Quantity</th>\n",
       "      <th>InvoiceDate</th>\n",
       "      <th>UnitPrice</th>\n",
       "      <th>CustomerID</th>\n",
       "      <th>Country</th>\n",
       "    </tr>\n",
       "  </thead>\n",
       "  <tbody>\n",
       "    <tr>\n",
       "      <th>0</th>\n",
       "      <td>536365</td>\n",
       "      <td>85123A</td>\n",
       "      <td>WHITE HANGING HEART T-LIGHT HOLDER</td>\n",
       "      <td>6</td>\n",
       "      <td>2010-12-01 08:26:00</td>\n",
       "      <td>2.55</td>\n",
       "      <td>17850</td>\n",
       "      <td>United Kingdom</td>\n",
       "    </tr>\n",
       "    <tr>\n",
       "      <th>1</th>\n",
       "      <td>536365</td>\n",
       "      <td>71053</td>\n",
       "      <td>WHITE METAL LANTERN</td>\n",
       "      <td>6</td>\n",
       "      <td>2010-12-01 08:26:00</td>\n",
       "      <td>3.39</td>\n",
       "      <td>17850</td>\n",
       "      <td>United Kingdom</td>\n",
       "    </tr>\n",
       "    <tr>\n",
       "      <th>2</th>\n",
       "      <td>536365</td>\n",
       "      <td>84406B</td>\n",
       "      <td>CREAM CUPID HEARTS COAT HANGER</td>\n",
       "      <td>8</td>\n",
       "      <td>2010-12-01 08:26:00</td>\n",
       "      <td>2.75</td>\n",
       "      <td>17850</td>\n",
       "      <td>United Kingdom</td>\n",
       "    </tr>\n",
       "    <tr>\n",
       "      <th>3</th>\n",
       "      <td>536365</td>\n",
       "      <td>84029G</td>\n",
       "      <td>KNITTED UNION FLAG HOT WATER BOTTLE</td>\n",
       "      <td>6</td>\n",
       "      <td>2010-12-01 08:26:00</td>\n",
       "      <td>3.39</td>\n",
       "      <td>17850</td>\n",
       "      <td>United Kingdom</td>\n",
       "    </tr>\n",
       "    <tr>\n",
       "      <th>4</th>\n",
       "      <td>536365</td>\n",
       "      <td>84029E</td>\n",
       "      <td>RED WOOLLY HOTTIE WHITE HEART.</td>\n",
       "      <td>6</td>\n",
       "      <td>2010-12-01 08:26:00</td>\n",
       "      <td>3.39</td>\n",
       "      <td>17850</td>\n",
       "      <td>United Kingdom</td>\n",
       "    </tr>\n",
       "    <tr>\n",
       "      <th>...</th>\n",
       "      <td>...</td>\n",
       "      <td>...</td>\n",
       "      <td>...</td>\n",
       "      <td>...</td>\n",
       "      <td>...</td>\n",
       "      <td>...</td>\n",
       "      <td>...</td>\n",
       "      <td>...</td>\n",
       "    </tr>\n",
       "    <tr>\n",
       "      <th>319395</th>\n",
       "      <td>564852</td>\n",
       "      <td>82552</td>\n",
       "      <td>WASHROOM METAL SIGN</td>\n",
       "      <td>10</td>\n",
       "      <td>2011-08-30 17:23:00</td>\n",
       "      <td>1.45</td>\n",
       "      <td>14976</td>\n",
       "      <td>United Kingdom</td>\n",
       "    </tr>\n",
       "    <tr>\n",
       "      <th>319396</th>\n",
       "      <td>564852</td>\n",
       "      <td>21756</td>\n",
       "      <td>BATH BUILDING BLOCK WORD</td>\n",
       "      <td>3</td>\n",
       "      <td>2011-08-30 17:23:00</td>\n",
       "      <td>5.95</td>\n",
       "      <td>14976</td>\n",
       "      <td>United Kingdom</td>\n",
       "    </tr>\n",
       "    <tr>\n",
       "      <th>319397</th>\n",
       "      <td>564852</td>\n",
       "      <td>21908</td>\n",
       "      <td>CHOCOLATE THIS WAY METAL SIGN</td>\n",
       "      <td>7</td>\n",
       "      <td>2011-08-30 17:23:00</td>\n",
       "      <td>2.10</td>\n",
       "      <td>14976</td>\n",
       "      <td>United Kingdom</td>\n",
       "    </tr>\n",
       "    <tr>\n",
       "      <th>319398</th>\n",
       "      <td>564852</td>\n",
       "      <td>22116</td>\n",
       "      <td>METAL SIGN HIS DINNER IS SERVED</td>\n",
       "      <td>10</td>\n",
       "      <td>2011-08-30 17:23:00</td>\n",
       "      <td>0.79</td>\n",
       "      <td>14976</td>\n",
       "      <td>United Kingdom</td>\n",
       "    </tr>\n",
       "    <tr>\n",
       "      <th>319399</th>\n",
       "      <td>564852</td>\n",
       "      <td>23091</td>\n",
       "      <td>ZINC HERB GARDEN CONTAINER</td>\n",
       "      <td>2</td>\n",
       "      <td>2011-08-30 17:23:00</td>\n",
       "      <td>6.25</td>\n",
       "      <td>14976</td>\n",
       "      <td>United Kingdom</td>\n",
       "    </tr>\n",
       "  </tbody>\n",
       "</table>\n",
       "<p>230474 rows × 8 columns</p>\n",
       "</div>"
      ],
      "text/plain": [
       "       InvoiceNo StockCode                          Description  Quantity  \\\n",
       "0         536365    85123A   WHITE HANGING HEART T-LIGHT HOLDER         6   \n",
       "1         536365     71053                  WHITE METAL LANTERN         6   \n",
       "2         536365    84406B       CREAM CUPID HEARTS COAT HANGER         8   \n",
       "3         536365    84029G  KNITTED UNION FLAG HOT WATER BOTTLE         6   \n",
       "4         536365    84029E       RED WOOLLY HOTTIE WHITE HEART.         6   \n",
       "...          ...       ...                                  ...       ...   \n",
       "319395    564852     82552                  WASHROOM METAL SIGN        10   \n",
       "319396    564852     21756             BATH BUILDING BLOCK WORD         3   \n",
       "319397    564852     21908        CHOCOLATE THIS WAY METAL SIGN         7   \n",
       "319398    564852     22116      METAL SIGN HIS DINNER IS SERVED        10   \n",
       "319399    564852     23091           ZINC HERB GARDEN CONTAINER         2   \n",
       "\n",
       "               InvoiceDate  UnitPrice  CustomerID         Country  \n",
       "0      2010-12-01 08:26:00       2.55       17850  United Kingdom  \n",
       "1      2010-12-01 08:26:00       3.39       17850  United Kingdom  \n",
       "2      2010-12-01 08:26:00       2.75       17850  United Kingdom  \n",
       "3      2010-12-01 08:26:00       3.39       17850  United Kingdom  \n",
       "4      2010-12-01 08:26:00       3.39       17850  United Kingdom  \n",
       "...                    ...        ...         ...             ...  \n",
       "319395 2011-08-30 17:23:00       1.45       14976  United Kingdom  \n",
       "319396 2011-08-30 17:23:00       5.95       14976  United Kingdom  \n",
       "319397 2011-08-30 17:23:00       2.10       14976  United Kingdom  \n",
       "319398 2011-08-30 17:23:00       0.79       14976  United Kingdom  \n",
       "319399 2011-08-30 17:23:00       6.25       14976  United Kingdom  \n",
       "\n",
       "[230474 rows x 8 columns]"
      ]
     },
     "metadata": {},
     "output_type": "display_data"
    },
    {
     "data": {
      "text/plain": [
       "'DF2'"
      ]
     },
     "metadata": {},
     "output_type": "display_data"
    },
    {
     "data": {
      "text/html": [
       "<div>\n",
       "<style scoped>\n",
       "    .dataframe tbody tr th:only-of-type {\n",
       "        vertical-align: middle;\n",
       "    }\n",
       "\n",
       "    .dataframe tbody tr th {\n",
       "        vertical-align: top;\n",
       "    }\n",
       "\n",
       "    .dataframe thead th {\n",
       "        text-align: right;\n",
       "    }\n",
       "</style>\n",
       "<table border=\"1\" class=\"dataframe\">\n",
       "  <thead>\n",
       "    <tr style=\"text-align: right;\">\n",
       "      <th></th>\n",
       "      <th>InvoiceNo</th>\n",
       "      <th>StockCode</th>\n",
       "      <th>Description</th>\n",
       "      <th>Quantity</th>\n",
       "      <th>InvoiceDate</th>\n",
       "      <th>UnitPrice</th>\n",
       "      <th>CustomerID</th>\n",
       "      <th>Country</th>\n",
       "    </tr>\n",
       "  </thead>\n",
       "  <tbody>\n",
       "    <tr>\n",
       "      <th>49034</th>\n",
       "      <td>540498</td>\n",
       "      <td>21485</td>\n",
       "      <td>RETROSPOT HEART HOT WATER BOTTLE</td>\n",
       "      <td>1</td>\n",
       "      <td>2011-01-09 10:06:00</td>\n",
       "      <td>4.95</td>\n",
       "      <td>17243</td>\n",
       "      <td>United Kingdom</td>\n",
       "    </tr>\n",
       "    <tr>\n",
       "      <th>49035</th>\n",
       "      <td>540498</td>\n",
       "      <td>22112</td>\n",
       "      <td>CHOCOLATE HOT WATER BOTTLE</td>\n",
       "      <td>1</td>\n",
       "      <td>2011-01-09 10:06:00</td>\n",
       "      <td>4.95</td>\n",
       "      <td>17243</td>\n",
       "      <td>United Kingdom</td>\n",
       "    </tr>\n",
       "    <tr>\n",
       "      <th>49036</th>\n",
       "      <td>540498</td>\n",
       "      <td>17091A</td>\n",
       "      <td>LAVENDER INCENSE IN TIN</td>\n",
       "      <td>6</td>\n",
       "      <td>2011-01-09 10:06:00</td>\n",
       "      <td>1.25</td>\n",
       "      <td>17243</td>\n",
       "      <td>United Kingdom</td>\n",
       "    </tr>\n",
       "    <tr>\n",
       "      <th>49037</th>\n",
       "      <td>540498</td>\n",
       "      <td>84813</td>\n",
       "      <td>SET OF 4 DIAMOND NAPKIN RINGS</td>\n",
       "      <td>6</td>\n",
       "      <td>2011-01-09 10:06:00</td>\n",
       "      <td>12.75</td>\n",
       "      <td>17243</td>\n",
       "      <td>United Kingdom</td>\n",
       "    </tr>\n",
       "    <tr>\n",
       "      <th>49038</th>\n",
       "      <td>540498</td>\n",
       "      <td>22795</td>\n",
       "      <td>SWEETHEART RECIPE BOOK STAND</td>\n",
       "      <td>3</td>\n",
       "      <td>2011-01-09 10:06:00</td>\n",
       "      <td>6.75</td>\n",
       "      <td>17243</td>\n",
       "      <td>United Kingdom</td>\n",
       "    </tr>\n",
       "    <tr>\n",
       "      <th>...</th>\n",
       "      <td>...</td>\n",
       "      <td>...</td>\n",
       "      <td>...</td>\n",
       "      <td>...</td>\n",
       "      <td>...</td>\n",
       "      <td>...</td>\n",
       "      <td>...</td>\n",
       "      <td>...</td>\n",
       "    </tr>\n",
       "    <tr>\n",
       "      <th>541904</th>\n",
       "      <td>581587</td>\n",
       "      <td>22613</td>\n",
       "      <td>PACK OF 20 SPACEBOY NAPKINS</td>\n",
       "      <td>12</td>\n",
       "      <td>2011-12-09 12:50:00</td>\n",
       "      <td>0.85</td>\n",
       "      <td>12680</td>\n",
       "      <td>France</td>\n",
       "    </tr>\n",
       "    <tr>\n",
       "      <th>541905</th>\n",
       "      <td>581587</td>\n",
       "      <td>22899</td>\n",
       "      <td>CHILDREN'S APRON DOLLY GIRL</td>\n",
       "      <td>6</td>\n",
       "      <td>2011-12-09 12:50:00</td>\n",
       "      <td>2.10</td>\n",
       "      <td>12680</td>\n",
       "      <td>France</td>\n",
       "    </tr>\n",
       "    <tr>\n",
       "      <th>541906</th>\n",
       "      <td>581587</td>\n",
       "      <td>23254</td>\n",
       "      <td>CHILDRENS CUTLERY DOLLY GIRL</td>\n",
       "      <td>4</td>\n",
       "      <td>2011-12-09 12:50:00</td>\n",
       "      <td>4.15</td>\n",
       "      <td>12680</td>\n",
       "      <td>France</td>\n",
       "    </tr>\n",
       "    <tr>\n",
       "      <th>541907</th>\n",
       "      <td>581587</td>\n",
       "      <td>23255</td>\n",
       "      <td>CHILDRENS CUTLERY CIRCUS PARADE</td>\n",
       "      <td>4</td>\n",
       "      <td>2011-12-09 12:50:00</td>\n",
       "      <td>4.15</td>\n",
       "      <td>12680</td>\n",
       "      <td>France</td>\n",
       "    </tr>\n",
       "    <tr>\n",
       "      <th>541908</th>\n",
       "      <td>581587</td>\n",
       "      <td>22138</td>\n",
       "      <td>BAKING SET 9 PIECE RETROSPOT</td>\n",
       "      <td>3</td>\n",
       "      <td>2011-12-09 12:50:00</td>\n",
       "      <td>4.95</td>\n",
       "      <td>12680</td>\n",
       "      <td>France</td>\n",
       "    </tr>\n",
       "  </tbody>\n",
       "</table>\n",
       "<p>366609 rows × 8 columns</p>\n",
       "</div>"
      ],
      "text/plain": [
       "       InvoiceNo StockCode                       Description  Quantity  \\\n",
       "49034     540498     21485  RETROSPOT HEART HOT WATER BOTTLE         1   \n",
       "49035     540498     22112        CHOCOLATE HOT WATER BOTTLE         1   \n",
       "49036     540498    17091A           LAVENDER INCENSE IN TIN         6   \n",
       "49037     540498     84813     SET OF 4 DIAMOND NAPKIN RINGS         6   \n",
       "49038     540498     22795      SWEETHEART RECIPE BOOK STAND         3   \n",
       "...          ...       ...                               ...       ...   \n",
       "541904    581587     22613       PACK OF 20 SPACEBOY NAPKINS        12   \n",
       "541905    581587     22899      CHILDREN'S APRON DOLLY GIRL          6   \n",
       "541906    581587     23254     CHILDRENS CUTLERY DOLLY GIRL          4   \n",
       "541907    581587     23255   CHILDRENS CUTLERY CIRCUS PARADE         4   \n",
       "541908    581587     22138     BAKING SET 9 PIECE RETROSPOT          3   \n",
       "\n",
       "               InvoiceDate  UnitPrice  CustomerID         Country  \n",
       "49034  2011-01-09 10:06:00       4.95       17243  United Kingdom  \n",
       "49035  2011-01-09 10:06:00       4.95       17243  United Kingdom  \n",
       "49036  2011-01-09 10:06:00       1.25       17243  United Kingdom  \n",
       "49037  2011-01-09 10:06:00      12.75       17243  United Kingdom  \n",
       "49038  2011-01-09 10:06:00       6.75       17243  United Kingdom  \n",
       "...                    ...        ...         ...             ...  \n",
       "541904 2011-12-09 12:50:00       0.85       12680          France  \n",
       "541905 2011-12-09 12:50:00       2.10       12680          France  \n",
       "541906 2011-12-09 12:50:00       4.15       12680          France  \n",
       "541907 2011-12-09 12:50:00       4.15       12680          France  \n",
       "541908 2011-12-09 12:50:00       4.95       12680          France  \n",
       "\n",
       "[366609 rows x 8 columns]"
      ]
     },
     "metadata": {},
     "output_type": "display_data"
    }
   ],
   "source": [
    "# CLEANING UP THE DATA\n",
    "def clean(df):\n",
    "    df = df.dropna()\n",
    "    df = df.astype({'CustomerID':'int'})\n",
    "    df = df[df['CustomerID'] > 0]\n",
    "    df = df[df['StockCode'] != 'POST']\n",
    "    df['InvoiceDate'] = pd.to_datetime(df['InvoiceDate'],format='%d-%m-%Y %H:%M',infer_datetime_format=True)\n",
    "    return df\n",
    "\n",
    "df = clean(df)\n",
    "df2 = clean(df2)\n",
    "mask1 = (df['InvoiceDate'] >= '01-12-2010') & (df['InvoiceDate'] <= '31-08-2011')\n",
    "df_1 = df.loc[mask1]\n",
    "mask2 = (df2['InvoiceDate'] >= '01-09-2011') & (df2['InvoiceDate'] <= '31-12-2011') & (df2['Quantity'] > 0)\n",
    "df_2 = df2.loc[mask2]\n",
    "\n",
    "# DISPLAYING THE 2 DATASETS\n",
    "display(\"DF1\",df_1) # First range of dates\n",
    "display(\"DF2\",df_2) # Second range of dates"
   ]
  },
  {
   "cell_type": "markdown",
   "id": "395ff86c",
   "metadata": {},
   "source": [
    "### CREATING THE TARGET VARIABLE"
   ]
  },
  {
   "cell_type": "code",
   "execution_count": 8,
   "id": "7a0278ee",
   "metadata": {},
   "outputs": [],
   "source": [
    "# MARKING CHURN AND NON-CHURN CUSTOMERS\n",
    "df_1['Churn'] = np.in1d(df_1['CustomerID'], df_2['CustomerID'])\n",
    "df_1['Churn'] = df_1['Churn'].map({True: 'Not Churn', False: 'Churn'})"
   ]
  },
  {
   "cell_type": "markdown",
   "id": "88eaf2a4",
   "metadata": {},
   "source": [
    "#### DISPLAYING THE TRAINING SET"
   ]
  },
  {
   "cell_type": "code",
   "execution_count": 9,
   "id": "c41a179c",
   "metadata": {
    "scrolled": false
   },
   "outputs": [
    {
     "data": {
      "text/plain": [
       "'ONLY CHURN'"
      ]
     },
     "metadata": {},
     "output_type": "display_data"
    },
    {
     "data": {
      "text/html": [
       "<div>\n",
       "<style scoped>\n",
       "    .dataframe tbody tr th:only-of-type {\n",
       "        vertical-align: middle;\n",
       "    }\n",
       "\n",
       "    .dataframe tbody tr th {\n",
       "        vertical-align: top;\n",
       "    }\n",
       "\n",
       "    .dataframe thead th {\n",
       "        text-align: right;\n",
       "    }\n",
       "</style>\n",
       "<table border=\"1\" class=\"dataframe\">\n",
       "  <thead>\n",
       "    <tr style=\"text-align: right;\">\n",
       "      <th></th>\n",
       "      <th>InvoiceNo</th>\n",
       "      <th>StockCode</th>\n",
       "      <th>Description</th>\n",
       "      <th>Quantity</th>\n",
       "      <th>InvoiceDate</th>\n",
       "      <th>UnitPrice</th>\n",
       "      <th>CustomerID</th>\n",
       "      <th>Country</th>\n",
       "      <th>Churn</th>\n",
       "    </tr>\n",
       "  </thead>\n",
       "  <tbody>\n",
       "    <tr>\n",
       "      <th>0</th>\n",
       "      <td>536365</td>\n",
       "      <td>85123A</td>\n",
       "      <td>WHITE HANGING HEART T-LIGHT HOLDER</td>\n",
       "      <td>6</td>\n",
       "      <td>2010-12-01 08:26:00</td>\n",
       "      <td>2.55</td>\n",
       "      <td>17850</td>\n",
       "      <td>United Kingdom</td>\n",
       "      <td>Churn</td>\n",
       "    </tr>\n",
       "    <tr>\n",
       "      <th>1</th>\n",
       "      <td>536365</td>\n",
       "      <td>71053</td>\n",
       "      <td>WHITE METAL LANTERN</td>\n",
       "      <td>6</td>\n",
       "      <td>2010-12-01 08:26:00</td>\n",
       "      <td>3.39</td>\n",
       "      <td>17850</td>\n",
       "      <td>United Kingdom</td>\n",
       "      <td>Churn</td>\n",
       "    </tr>\n",
       "    <tr>\n",
       "      <th>2</th>\n",
       "      <td>536365</td>\n",
       "      <td>84406B</td>\n",
       "      <td>CREAM CUPID HEARTS COAT HANGER</td>\n",
       "      <td>8</td>\n",
       "      <td>2010-12-01 08:26:00</td>\n",
       "      <td>2.75</td>\n",
       "      <td>17850</td>\n",
       "      <td>United Kingdom</td>\n",
       "      <td>Churn</td>\n",
       "    </tr>\n",
       "    <tr>\n",
       "      <th>3</th>\n",
       "      <td>536365</td>\n",
       "      <td>84029G</td>\n",
       "      <td>KNITTED UNION FLAG HOT WATER BOTTLE</td>\n",
       "      <td>6</td>\n",
       "      <td>2010-12-01 08:26:00</td>\n",
       "      <td>3.39</td>\n",
       "      <td>17850</td>\n",
       "      <td>United Kingdom</td>\n",
       "      <td>Churn</td>\n",
       "    </tr>\n",
       "    <tr>\n",
       "      <th>4</th>\n",
       "      <td>536365</td>\n",
       "      <td>84029E</td>\n",
       "      <td>RED WOOLLY HOTTIE WHITE HEART.</td>\n",
       "      <td>6</td>\n",
       "      <td>2010-12-01 08:26:00</td>\n",
       "      <td>3.39</td>\n",
       "      <td>17850</td>\n",
       "      <td>United Kingdom</td>\n",
       "      <td>Churn</td>\n",
       "    </tr>\n",
       "    <tr>\n",
       "      <th>...</th>\n",
       "      <td>...</td>\n",
       "      <td>...</td>\n",
       "      <td>...</td>\n",
       "      <td>...</td>\n",
       "      <td>...</td>\n",
       "      <td>...</td>\n",
       "      <td>...</td>\n",
       "      <td>...</td>\n",
       "      <td>...</td>\n",
       "    </tr>\n",
       "    <tr>\n",
       "      <th>268027</th>\n",
       "      <td>C560372</td>\n",
       "      <td>M</td>\n",
       "      <td>Manual</td>\n",
       "      <td>-1</td>\n",
       "      <td>2011-07-18 12:26:00</td>\n",
       "      <td>4287.63</td>\n",
       "      <td>17448</td>\n",
       "      <td>United Kingdom</td>\n",
       "      <td>Churn</td>\n",
       "    </tr>\n",
       "    <tr>\n",
       "      <th>268431</th>\n",
       "      <td>C560420</td>\n",
       "      <td>M</td>\n",
       "      <td>Manual</td>\n",
       "      <td>-1</td>\n",
       "      <td>2011-07-18 15:11:00</td>\n",
       "      <td>1592.49</td>\n",
       "      <td>15369</td>\n",
       "      <td>United Kingdom</td>\n",
       "      <td>Churn</td>\n",
       "    </tr>\n",
       "    <tr>\n",
       "      <th>268476</th>\n",
       "      <td>C560430</td>\n",
       "      <td>M</td>\n",
       "      <td>Manual</td>\n",
       "      <td>-1</td>\n",
       "      <td>2011-07-18 15:21:00</td>\n",
       "      <td>611.86</td>\n",
       "      <td>13154</td>\n",
       "      <td>United Kingdom</td>\n",
       "      <td>Churn</td>\n",
       "    </tr>\n",
       "    <tr>\n",
       "      <th>270557</th>\n",
       "      <td>C560572</td>\n",
       "      <td>M</td>\n",
       "      <td>Manual</td>\n",
       "      <td>-1</td>\n",
       "      <td>2011-07-19 14:45:00</td>\n",
       "      <td>112.35</td>\n",
       "      <td>17065</td>\n",
       "      <td>United Kingdom</td>\n",
       "      <td>Churn</td>\n",
       "    </tr>\n",
       "    <tr>\n",
       "      <th>270559</th>\n",
       "      <td>C560574</td>\n",
       "      <td>M</td>\n",
       "      <td>Manual</td>\n",
       "      <td>-1</td>\n",
       "      <td>2011-07-19 14:56:00</td>\n",
       "      <td>106.40</td>\n",
       "      <td>14437</td>\n",
       "      <td>United Kingdom</td>\n",
       "      <td>Churn</td>\n",
       "    </tr>\n",
       "  </tbody>\n",
       "</table>\n",
       "<p>3261 rows × 9 columns</p>\n",
       "</div>"
      ],
      "text/plain": [
       "       InvoiceNo StockCode                          Description  Quantity  \\\n",
       "0         536365    85123A   WHITE HANGING HEART T-LIGHT HOLDER         6   \n",
       "1         536365     71053                  WHITE METAL LANTERN         6   \n",
       "2         536365    84406B       CREAM CUPID HEARTS COAT HANGER         8   \n",
       "3         536365    84029G  KNITTED UNION FLAG HOT WATER BOTTLE         6   \n",
       "4         536365    84029E       RED WOOLLY HOTTIE WHITE HEART.         6   \n",
       "...          ...       ...                                  ...       ...   \n",
       "268027   C560372         M                               Manual        -1   \n",
       "268431   C560420         M                               Manual        -1   \n",
       "268476   C560430         M                               Manual        -1   \n",
       "270557   C560572         M                               Manual        -1   \n",
       "270559   C560574         M                               Manual        -1   \n",
       "\n",
       "               InvoiceDate  UnitPrice  CustomerID         Country  Churn  \n",
       "0      2010-12-01 08:26:00       2.55       17850  United Kingdom  Churn  \n",
       "1      2010-12-01 08:26:00       3.39       17850  United Kingdom  Churn  \n",
       "2      2010-12-01 08:26:00       2.75       17850  United Kingdom  Churn  \n",
       "3      2010-12-01 08:26:00       3.39       17850  United Kingdom  Churn  \n",
       "4      2010-12-01 08:26:00       3.39       17850  United Kingdom  Churn  \n",
       "...                    ...        ...         ...             ...    ...  \n",
       "268027 2011-07-18 12:26:00    4287.63       17448  United Kingdom  Churn  \n",
       "268431 2011-07-18 15:11:00    1592.49       15369  United Kingdom  Churn  \n",
       "268476 2011-07-18 15:21:00     611.86       13154  United Kingdom  Churn  \n",
       "270557 2011-07-19 14:45:00     112.35       17065  United Kingdom  Churn  \n",
       "270559 2011-07-19 14:56:00     106.40       14437  United Kingdom  Churn  \n",
       "\n",
       "[3261 rows x 9 columns]"
      ]
     },
     "metadata": {},
     "output_type": "display_data"
    }
   ],
   "source": [
    "# DISPLAYING DATA| OF \"CHURN\" CUSTOMERS\n",
    "df_3 = df_1[df_1[\"Churn\"] == \"Churn\"]\n",
    "display(\"ONLY CHURN\", df_3)"
   ]
  },
  {
   "cell_type": "markdown",
   "id": "5b930be0",
   "metadata": {},
   "source": [
    "### CUSTOMER LEVEL FEATURE SELECTION"
   ]
  },
  {
   "cell_type": "markdown",
   "id": "752bbf50",
   "metadata": {},
   "source": [
    "#### FEATURE 1 : DISPLAYING ONLY PRODUCT NAMES"
   ]
  },
  {
   "cell_type": "code",
   "execution_count": 10,
   "id": "a7dc78f2",
   "metadata": {},
   "outputs": [
    {
     "data": {
      "text/plain": [
       "StockCode\n",
       "10002                 INFLATABLE POLITICAL GLOBE \n",
       "10120                                DOGGY RUBBER\n",
       "10123C                      HEARTS WRAPPING TAPE \n",
       "10125                     MINI FUNKY DESIGN TAPES\n",
       "10135                COLOURING PENCILS BROWN TUBE\n",
       "                              ...                \n",
       "90210B               CLEAR ACRYLIC FACETED BANGLE\n",
       "90211B          JET BLACK LAS VEGAS NECKLACE 45CM\n",
       "BANK CHARGES                         Bank Charges\n",
       "C2                                       CARRIAGE\n",
       "M                                          Manual\n",
       "Name: Description, Length: 1312, dtype: object"
      ]
     },
     "metadata": {},
     "output_type": "display_data"
    }
   ],
   "source": [
    "def get_product_name(x):\n",
    "    max_upper_count = 0\n",
    "    product_name = ''\n",
    "    for i in x:\n",
    "        if(i == i):  #To Check for NaN\n",
    "            count = 0\n",
    "            for letter in i:\n",
    "                if(letter.isupper()):\n",
    "                    count = count+1\n",
    "            if count>max_upper_count:\n",
    "                max_upper_count = count\n",
    "                product_name = i\n",
    "    return product_name\n",
    "grouped = df_3.groupby(\"StockCode\")['Description'].unique()\n",
    "lookup = grouped.apply(get_product_name)\n",
    "display(lookup)"
   ]
  },
  {
   "cell_type": "markdown",
   "id": "e4877f5e",
   "metadata": {},
   "source": [
    "#### FEATURE 2 : COUNTRY CODE"
   ]
  },
  {
   "cell_type": "code",
   "execution_count": 11,
   "id": "b96363bf",
   "metadata": {},
   "outputs": [
    {
     "data": {
      "text/plain": [
       "InvoiceNo      3261\n",
       "StockCode      3261\n",
       "Description    3261\n",
       "Quantity       3261\n",
       "InvoiceDate    3261\n",
       "UnitPrice      3261\n",
       "CustomerID     3261\n",
       "Country        3261\n",
       "Churn          3261\n",
       "dtype: int64"
      ]
     },
     "metadata": {},
     "output_type": "display_data"
    }
   ],
   "source": [
    "# COUNTRY CODE INSTEAD OF COUNTRY NAMES\n",
    "countries_dict = {}\n",
    "\n",
    "countries = df_3['Country'].unique()\n",
    "for i,y in enumerate(countries):\n",
    "    countries_dict[y] = i\n",
    "\n",
    "df_3['Country'] = [countries_dict[x] for x in df_3['Country']]\n",
    "df_3['Country'].unique()\n",
    "df_3.head()\n",
    "display(df_3.count())"
   ]
  },
  {
   "cell_type": "markdown",
   "id": "d1072adc",
   "metadata": {},
   "source": [
    "#### FEATURE 3 : USING STOCKCODE"
   ]
  },
  {
   "cell_type": "code",
   "execution_count": 12,
   "id": "b62564da",
   "metadata": {},
   "outputs": [
    {
     "name": "stdout",
     "output_type": "stream",
     "text": [
      "STOCK CODE LENGTH :  1312\n"
     ]
    }
   ],
   "source": [
    "print(\"STOCK CODE LENGTH : \",len(df_3['StockCode'].unique()))"
   ]
  },
  {
   "cell_type": "markdown",
   "id": "90790f3a",
   "metadata": {},
   "source": [
    "#### FEATURE 4 : STATISTICS FEATURE"
   ]
  },
  {
   "cell_type": "code",
   "execution_count": 13,
   "id": "89bdd47a",
   "metadata": {
    "scrolled": false
   },
   "outputs": [
    {
     "data": {
      "text/plain": [
       "<seaborn.axisgrid.JointGrid at 0x2a7c67d9820>"
      ]
     },
     "execution_count": 13,
     "metadata": {},
     "output_type": "execute_result"
    },
    {
     "data": {
      "image/png": "[encoded data removed]",
      "text/plain": [
       "<Figure size 432x432 with 3 Axes>"
      ]
     },
     "metadata": {
      "needs_background": "light"
     },
     "output_type": "display_data"
    },
    {
     "data": {
      "image/png": "[encoded data removed]",
      "text/plain": [
       "<Figure size 432x432 with 3 Axes>"
      ]
     },
     "metadata": {
      "needs_background": "light"
     },
     "output_type": "display_data"
    },
    {
     "data": {
      "image/png": "[encoded data removed]",
      "text/plain": [
       "<Figure size 432x432 with 3 Axes>"
      ]
     },
     "metadata": {
      "needs_background": "light"
     },
     "output_type": "display_data"
    },
    {
     "data": {
      "image/png": "[encoded data removed]",
      "text/plain": [
       "<Figure size 432x432 with 3 Axes>"
      ]
     },
     "metadata": {
      "needs_background": "light"
     },
     "output_type": "display_data"
    },
    {
     "data": {
      "image/png": "[encoded data removed]",
      "text/plain": [
       "<Figure size 432x432 with 3 Axes>"
      ]
     },
     "metadata": {
      "needs_background": "light"
     },
     "output_type": "display_data"
    }
   ],
   "source": [
    "# DATA MODIFICATION FOR PLOT\n",
    "df_3_3 = df_3.copy()\n",
    "df_3_3['Churn'] = df_3_3['Churn'].map({\"Churn\": 1, \"Not Churn\": 0})\n",
    "df_3_3['StockCode'] = df_3_3['StockCode'].str.replace('\\D', '')\n",
    "df_3_3 = df_3_3[df_3_3['StockCode']!='']\n",
    "df_3_3['StockCode'] = df_3_3['StockCode'].astype(int)\n",
    "\n",
    "# PLOTTING THE DATA\n",
    "sns.jointplot(data = df_3_3, x = 'Country', y = 'Churn', kind = 'reg', color = 'purple')\n",
    "sns.jointplot(data = df_3_3, x = 'StockCode', y = 'Churn', kind = 'reg', color = 'purple')\n",
    "sns.jointplot(data = df_3_3, x = 'UnitPrice', y = 'Churn', kind = 'reg', color = 'purple')\n",
    "sns.jointplot(data = df_3_3, x = 'CustomerID', y = 'Churn', kind = 'reg', color = 'purple')\n",
    "sns.jointplot(data = df_3_3, x = 'Quantity', y = 'Churn', kind = 'reg', color = 'purple')"
   ]
  },
  {
   "cell_type": "code",
   "execution_count": 14,
   "id": "d50ff4ef",
   "metadata": {},
   "outputs": [
    {
     "data": {
      "text/plain": [
       "<AxesSubplot:>"
      ]
     },
     "execution_count": 14,
     "metadata": {},
     "output_type": "execute_result"
    },
    {
     "data": {
      "image/png": "[encoded data removed]",
      "text/plain": [
       "<Figure size 432x288 with 2 Axes>"
      ]
     },
     "metadata": {
      "needs_background": "light"
     },
     "output_type": "display_data"
    }
   ],
   "source": [
    "sns.heatmap(df_3_3.corr())"
   ]
  },
  {
   "cell_type": "markdown",
   "id": "0c127508",
   "metadata": {},
   "source": [
    "### CONSTRUCT A DECISION TREE USING ID3"
   ]
  },
  {
   "cell_type": "code",
   "execution_count": null,
   "id": "94f15adc",
   "metadata": {},
   "outputs": [],
   "source": [
    "# Construct a Decision Tree using ID3 algorithm and classify whether the customer will Churn/Not Churn\n",
    "eps = np.finfo(float).eps\n",
    "def find_entropy(df):\n",
    "    Class = df.keys()[-1]   #To make the code generic, changing target variable class name\n",
    "    entropy = 0\n",
    "    values = df[Class].unique()\n",
    "    for value in values:\n",
    "        fraction = df[Class].value_counts()[value]/len(df[Class])\n",
    "        entropy += -fraction * np.log2(fraction)\n",
    "    return entropy\n",
    "  \n",
    "  \n",
    "def find_entropy_attribute(df,attribute):\n",
    "  Class = df.keys()[-1]   #To make the code generic, changing target variable class name\n",
    "  target_variables = df[Class].unique()  #This gives all 'Yes' and 'No'\n",
    "  variables = df[attribute].unique()    #This gives different features in that attribute (like 'Hot','Cold' in Temperature)\n",
    "  entropy2 = 0\n",
    "  for variable in variables:\n",
    "      entropy = 0\n",
    "      for target_variable in target_variables:\n",
    "          num = len(df[attribute][df[attribute] == variable][df[Class] == target_variable])\n",
    "          den = len(df[attribute][df[attribute] == variable])\n",
    "          fraction = num/(den+eps)\n",
    "          entropy += -fraction * log(fraction+eps)\n",
    "      fraction2 = den/len(df)\n",
    "      entropy2 += -fraction2 * entropy\n",
    "  return abs(entropy2)\n",
    "\n",
    "\n",
    "def find_winner(df):\n",
    "    Entropy_att = []\n",
    "    IG = []\n",
    "    for key in df.keys()[:-1]:\n",
    "        IG.append(find_entropy(df) - find_entropy_attribute(df,key))\n",
    "    return df.keys()[:-1][np.argmax(IG)]\n",
    "  \n",
    "  \n",
    "def get_subtable(df, node, value):\n",
    "  return df[df[node] == value].reset_index(drop = True)\n",
    "\n",
    "\n",
    "def buildTree(df,tree = None): \n",
    "    Class = df.keys()[-1] # To make the code generic, changing target variable class name\n",
    "    # Here we build our decision tree\n",
    "    # Get attribute with maximum information gain\n",
    "    node = find_winner(df)\n",
    "    \n",
    "    # Get distinct value of that attribute e.g Salary is node and Low,Med and High are values\n",
    "    attValue = np.unique(df[node])\n",
    "    \n",
    "    # Create an empty dictionary to create tree    \n",
    "    if tree is None:                    \n",
    "        tree = {}\n",
    "        tree[node] = {}\n",
    "    \n",
    "    # We make loop to construct a tree by calling this function recursively. \n",
    "    # In this we check if the subset is pure and stops if it is pure. \n",
    "\n",
    "    for value in attValue:\n",
    "        \n",
    "        subtable = get_subtable(df,node,value)\n",
    "        clValue,counts = np.unique(subtable['Churn'],return_counts = True)                        \n",
    "        \n",
    "        if len(counts) == 1: #Checking purity of subset\n",
    "            tree[node][value] = clValue[0]                                                    \n",
    "        else:        \n",
    "            tree[node][value] = buildTree(subtable) #Calling the function recursively \n",
    "                   \n",
    "    return tree\n",
    "\n",
    "t = buildTree(df_1)"
   ]
  },
  {
   "cell_type": "code",
   "execution_count": null,
   "id": "4d2b1fb9",
   "metadata": {
    "scrolled": true
   },
   "outputs": [],
   "source": [
    "print(\"The DECISION TREE in \\'Dictionary\\' Format :\\n\")\n",
    "display(t)"
   ]
  },
  {
   "cell_type": "markdown",
   "id": "5a1f035f",
   "metadata": {},
   "source": [
    "#### PLOTTING THE ID3 DECISION TREE"
   ]
  },
  {
   "cell_type": "code",
   "execution_count": null,
   "id": "0bb83f8f",
   "metadata": {},
   "outputs": [],
   "source": [
    "x = df_1[['Quantity','UnitPrice']]\n",
    "y = df_1['Churn']\n",
    "x_train, x_test, y_train, y_test = train_test_split(x,y)"
   ]
  },
  {
   "cell_type": "markdown",
   "id": "ee589825",
   "metadata": {},
   "source": [
    "#### 80/20 SPLIT"
   ]
  },
  {
   "cell_type": "code",
   "execution_count": null,
   "id": "e4e070f4",
   "metadata": {},
   "outputs": [],
   "source": [
    "x_train, x_val, y_train, y_val = train_test_split(x_train, y_train, test_size = 0.2, random_state = 1)"
   ]
  },
  {
   "cell_type": "code",
   "execution_count": null,
   "id": "de9c5c21",
   "metadata": {},
   "outputs": [],
   "source": [
    "%matplotlib inline\n",
    "\n",
    "clf = DecisionTreeClassifier(max_depth = 4000)\n",
    "fig = clf.fit(x_train, y_train)\n",
    "plt.figure(figsize = (20,15))\n",
    "tree.plot_tree(fig, filled = True)\n",
    "plt.show()"
   ]
  },
  {
   "cell_type": "code",
   "execution_count": null,
   "id": "ed67a05e",
   "metadata": {},
   "outputs": [],
   "source": [
    "# MAGNIFIED VIEW\n",
    "\n",
    "%matplotlib inline\n",
    "\n",
    "clf = DecisionTreeClassifier(max_depth = 3)\n",
    "fig = clf.fit(x_train, y_train)\n",
    "plt.figure(figsize = (20,15))\n",
    "tree.plot_tree(fig, filled = True)\n",
    "plt.show()"
   ]
  },
  {
   "cell_type": "markdown",
   "id": "54235907",
   "metadata": {},
   "source": [
    "#### ACCURACY AND CLASSIFICATION REPORT"
   ]
  },
  {
   "cell_type": "code",
   "execution_count": null,
   "id": "034b7732",
   "metadata": {},
   "outputs": [],
   "source": [
    "# ACCURACY OF ID3 DT\n",
    "\n",
    "y_pred = clf.predict(x_test)\n",
    "print(\"Accuracy % :\", metrics.accuracy_score(y_test, y_pred) * 100)"
   ]
  },
  {
   "cell_type": "code",
   "execution_count": null,
   "id": "1e81fb51",
   "metadata": {},
   "outputs": [],
   "source": [
    "# CLASSIFICATION REPORT OF ID3 DT\n",
    "print(\"CONFUSION MATRIX:\\n\", confusion_matrix(y_test, y_pred))\n",
    "print(\"CLASSIFICATION REPORT:\\n\", classification_report(y_test, y_pred))"
   ]
  },
  {
   "cell_type": "markdown",
   "id": "15fed53d",
   "metadata": {},
   "source": [
    "### ROC : AUC AND CURVE IN ID3"
   ]
  },
  {
   "cell_type": "code",
   "execution_count": null,
   "id": "999f6239",
   "metadata": {},
   "outputs": [],
   "source": [
    "def ROC_Curve(y_test, y_pred):\n",
    "    yt1 = y_test.map({\"Churn\": 1,\"Not Churn\": 0})\n",
    "    yp1 = np.where(y_test == \"Churn\", 1, 0)\n",
    "    # ROC AUC\n",
    "    auc = roc_auc_score(yt1, yp1)\n",
    "    print('ROC AUC: %f' % auc)\n",
    "\n",
    "    # ROC Curve\n",
    "    fpr, tpr, thresholds = roc_curve(yt1, yp1)\n",
    "    font1 = {'family':'serif','color':'blue','size':20}\n",
    "    font2 = {'family':'serif','color':'darkred','size':15}\n",
    "    plt.plot([0, 1], [0, 1], linestyle = '--')\n",
    "    plt.plot(fpr, tpr, marker = '.')\n",
    "    plt.title(\"ROC CURVE\", fontdict = font1)\n",
    "    plt.xlabel(\"PREDICTION\", fontdict = font2)\n",
    "    plt.ylabel(\"TESTING\", fontdict = font2)\n",
    "    plt.show()\n",
    "ROC_Curve(y_test, y_pred)"
   ]
  },
  {
   "cell_type": "markdown",
   "id": "f54c19c2",
   "metadata": {},
   "source": [
    "### SVM "
   ]
  },
  {
   "cell_type": "code",
   "execution_count": null,
   "id": "8d4871c1",
   "metadata": {},
   "outputs": [],
   "source": [
    "#SVM\n",
    "clf2 = LinearSVC(max_iter = 5000,verbose = True)\n",
    "clf2.fit(x_train, y_train)\n",
    "method = SVC(gamma = 'auto', kernel = 'rbf', C = 3.753) # SVC classifier passed to the Pipeline function.\n",
    "clf2_2 = Pipeline([('scaler', StandardScaler()), ('svc', method)]) #Used as an estimator and avoid leaking the test set into the train set.\n",
    "clf2_2.fit(x_train, y_train) # To fit the model obtained.\n",
    "y_pred = clf2.predict(x_test)"
   ]
  },
  {
   "cell_type": "markdown",
   "id": "7e3ac4af",
   "metadata": {},
   "source": [
    "#### ACCURACY AND CLASSIFICATION REPORT OF SVM"
   ]
  },
  {
   "cell_type": "code",
   "execution_count": null,
   "id": "e31514e9",
   "metadata": {},
   "outputs": [],
   "source": [
    "# CLASSIFICATION REPORT OF SVM\n",
    "print(\"LINEAR SVM:\\n\")\n",
    "print(\"Accuracy % :\", metrics.accuracy_score(y_test, y_pred) * 100)\n",
    "print(\"CONFUSION MATRIX:\\n\", confusion_matrix(y_test, y_pred))\n",
    "print(\"CLASSIFICATION REPORT:\\n\", classification_report(y_test, y_pred))\n",
    "print(\"RBF SVM:\\n\")\n",
    "print(clf2_2.score(x_test, y_test) * 100)"
   ]
  },
  {
   "cell_type": "markdown",
   "id": "3bd00c12",
   "metadata": {},
   "source": [
    "### ROC : AUC AND CURVE IN SVM"
   ]
  },
  {
   "cell_type": "code",
   "execution_count": null,
   "id": "d1f2caa6",
   "metadata": {},
   "outputs": [],
   "source": [
    "ROC_Curve(y_test, y_pred)"
   ]
  },
  {
   "cell_type": "markdown",
   "id": "a9fbcc95",
   "metadata": {},
   "source": [
    "### ANN"
   ]
  },
  {
   "cell_type": "code",
   "execution_count": null,
   "id": "9d78d48e",
   "metadata": {},
   "outputs": [],
   "source": [
    "#ANN\n",
    "clf3 = MLPClassifier(max_iter = 5000, verbose = True)\n",
    "clf3 = clf3.fit(x_train, y_train)\n",
    "y_pred = clf3.predict(x_test)"
   ]
  },
  {
   "cell_type": "markdown",
   "id": "b5725f0e",
   "metadata": {},
   "source": [
    "#### ACCURACY AND CLASSIFICATION REPORT OF ANN"
   ]
  },
  {
   "cell_type": "code",
   "execution_count": null,
   "id": "b48f0e2c",
   "metadata": {},
   "outputs": [],
   "source": [
    "# CLASSIFICATION REPORT OF ANN\n",
    "print(\"Accuracy % :\", metrics.accuracy_score(y_test, y_pred) * 100)\n",
    "print(\"CONFUSION MATRIX:\\n\", confusion_matrix(y_test, y_pred))\n",
    "print(\"CLASSIFICATION REPORT:\\n\", classification_report(y_test, y_pred))"
   ]
  },
  {
   "cell_type": "markdown",
   "id": "b3027e6e",
   "metadata": {},
   "source": [
    "### ROC : AUC AND CURVE IN ANN"
   ]
  },
  {
   "cell_type": "code",
   "execution_count": null,
   "id": "98a6a326",
   "metadata": {},
   "outputs": [],
   "source": [
    "ROC_Curve(y_test, y_pred)"
   ]
  },
  {
   "cell_type": "markdown",
   "id": "637b11a8",
   "metadata": {},
   "source": [
    "##### NOTE : All ```Evaluations``` and ```Comparative study``` for ID3, ANN and SVM are shown after their respective evaluations."
   ]
  },
  {
   "cell_type": "code",
   "execution_count": null,
   "id": "02859426",
   "metadata": {},
   "outputs": [],
   "source": []
  }
 ],
 "metadata": {
  "kernelspec": {
   "display_name": "Python 3 (ipykernel)",
   "language": "python",
   "name": "python3"
  },
  "language_info": {
   "codemirror_mode": {
    "name": "ipython",
    "version": 3
   },
   "file_extension": ".py",
   "mimetype": "text/x-python",
   "name": "python",
   "nbconvert_exporter": "python",
   "pygments_lexer": "ipython3",
   "version": "3.9.12"
  },
  "vscode": {
   "interpreter": {
    "hash": "06d2efff237a2b499baf940d15b06ff09b00b7f12f73ad5572430159a3b52f19"
   }
  }
 },
 "nbformat": 4,
 "nbformat_minor": 5
}
